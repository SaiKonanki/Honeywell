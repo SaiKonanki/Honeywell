{
 "cells": [
  {
   "cell_type": "code",
   "execution_count": 1,
   "metadata": {},
   "outputs": [],
   "source": [
    "import pandas as pd\n",
    "\n",
    "train_df = pd.read_csv(\"Honeywell/train_data.csv\")\n",
    "test_df = pd.read_csv(\"Honeywell/test_data.csv\")"
   ]
  },
  {
   "cell_type": "code",
   "execution_count": 2,
   "metadata": {},
   "outputs": [],
   "source": [
    "# preprocessing\n",
    "import numpy as np\n",
    "train_df.drop(['sensor_22', 'sensor_23','sensor_24','sensor_25','sensor_26','sensor_27','time_in_cycles'], axis=1, inplace=True)\n",
    "test_df.drop(['sensor_22', 'sensor_23','sensor_24','sensor_25','sensor_26','sensor_27','time_in_cycles'], axis=1, inplace=True)\n",
    "\n",
    "train_df['status'] = np.where(train_df['RUL'] < 50, 0, 1)"
   ]
  },
  {
   "cell_type": "code",
   "execution_count": 3,
   "metadata": {},
   "outputs": [],
   "source": [
    "# splitting the data into train and test\n",
    "\n",
    "X_train = train_df.drop(['engine_no', 'RUL','status'], axis = 1)\n",
    "y_train = train_df['status']\n",
    "\n",
    "X_test = test_df.drop(['engine_no'], axis = 1)"
   ]
  },
  {
   "cell_type": "code",
   "execution_count": 4,
   "metadata": {},
   "outputs": [],
   "source": [
    "from sklearn.model_selection import train_test_split\n",
    "X_train, X_test, y_train, y_test=train_test_split(X_train,y_train, test_size=0.2, random_state=3)"
   ]
  },
  {
   "cell_type": "code",
   "execution_count": 5,
   "metadata": {},
   "outputs": [
    {
     "name": "stderr",
     "output_type": "stream",
     "text": [
      "C:\\Users\\saich\\Anaconda3\\lib\\site-packages\\sklearn\\preprocessing\\label.py:151: DeprecationWarning: The truth value of an empty array is ambiguous. Returning False, but in future this will result in an error. Use `array.size > 0` to check that an array is not empty.\n",
      "  if diff:\n"
     ]
    }
   ],
   "source": [
    "import lightgbm as lgb\n",
    "\n",
    "lgb_clss = lgb.LGBMClassifier(learning_rate=0.01,n_estimators=10,num_leaves=100,objective='binary', metrics='auc',random_state=50,n_jobs=-1)\n",
    "lgb_clss.fit(X_train, y_train)\n",
    "preds2 = lgb_clss.predict(X_test)"
   ]
  },
  {
   "cell_type": "code",
   "execution_count": 6,
   "metadata": {},
   "outputs": [],
   "source": [
    "from sklearn.metrics import confusion_matrix,accuracy_score,r2_score,roc_auc_score,precision_score,recall_score,f1_score"
   ]
  },
  {
   "cell_type": "code",
   "execution_count": 8,
   "metadata": {},
   "outputs": [
    {
     "name": "stdout",
     "output_type": "stream",
     "text": [
      "Acc Score:  0.7784360189573459\n",
      "Precision Score:  0.7784360189573459\n",
      "Recall Score:  1.0\n",
      "f1 score:  0.8754163890739506\n",
      "Roc Auc Score:  0.5\n"
     ]
    }
   ],
   "source": [
    "print('Acc Score: ',accuracy_score(y_test, preds2))\n",
    "print('Precision Score: ',precision_score(y_test, preds2))\n",
    "print('Recall Score: ',recall_score(y_test, preds2))\n",
    "print('f1 score: ',f1_score(y_test, preds2,'binary'))\n",
    "print('Roc Auc Score: ',roc_auc_score(y_test, preds2))"
   ]
  },
  {
   "cell_type": "code",
   "execution_count": 11,
   "metadata": {},
   "outputs": [
    {
     "name": "stderr",
     "output_type": "stream",
     "text": [
      "C:\\Users\\saich\\Anaconda3\\lib\\site-packages\\sklearn\\preprocessing\\label.py:151: DeprecationWarning: The truth value of an empty array is ambiguous. Returning False, but in future this will result in an error. Use `array.size > 0` to check that an array is not empty.\n",
      "  if diff:\n"
     ]
    }
   ],
   "source": [
    "preds_train = lgb_clss.predict(X_train)"
   ]
  },
  {
   "cell_type": "code",
   "execution_count": 12,
   "metadata": {},
   "outputs": [
    {
     "name": "stdout",
     "output_type": "stream",
     "text": [
      "Acc Score:  0.7790578936291285\n",
      "Precision Score:  0.7790578936291285\n",
      "Recall Score:  1.0\n",
      "f1 score:  0.8758094904263244\n",
      "Roc Auc Score:  0.5\n"
     ]
    }
   ],
   "source": [
    "print('Acc Score: ',accuracy_score(y_train, preds_train))\n",
    "print('Precision Score: ',precision_score(y_train, preds_train))\n",
    "print('Recall Score: ',recall_score(y_train, preds_train))\n",
    "print('f1 score: ',f1_score(y_train, preds_train,'binary'))\n",
    "print('Roc Auc Score: ',roc_auc_score(y_train, preds_train))"
   ]
  },
  {
   "cell_type": "code",
   "execution_count": null,
   "metadata": {},
   "outputs": [],
   "source": []
  },
  {
   "cell_type": "code",
   "execution_count": 13,
   "metadata": {},
   "outputs": [
    {
     "name": "stderr",
     "output_type": "stream",
     "text": [
      "C:\\Users\\saich\\Anaconda3\\lib\\site-packages\\sklearn\\preprocessing\\label.py:151: DeprecationWarning: The truth value of an empty array is ambiguous. Returning False, but in future this will result in an error. Use `array.size > 0` to check that an array is not empty.\n",
      "  if diff:\n"
     ]
    },
    {
     "data": {
      "text/plain": [
       "0.7784360189573459"
      ]
     },
     "execution_count": 13,
     "metadata": {},
     "output_type": "execute_result"
    }
   ],
   "source": [
    "lgb_clss.score(X_test, y_test)"
   ]
  },
  {
   "cell_type": "code",
   "execution_count": 77,
   "metadata": {},
   "outputs": [
    {
     "data": {
      "text/plain": [
       "LGBMClassifier(boosting_type='gbdt', class_weight=None, colsample_bytree=1.0,\n",
       "        importance_type='split', learning_rate=0.01, max_depth=3,\n",
       "        min_child_samples=20, min_child_weight=0.001, min_split_gain=0.0,\n",
       "        n_estimators=10, n_jobs=-1, num_leaves=31, objective='binary',\n",
       "        random_state=0, reg_alpha=0.0, reg_lambda=0.0, silent=True,\n",
       "        subsample=1.0, subsample_for_bin=200000, subsample_freq=0)"
      ]
     },
     "execution_count": 77,
     "metadata": {},
     "output_type": "execute_result"
    }
   ],
   "source": [
    "import lightgbm\n",
    "from lightgbm import LGBMClassifier\n",
    "\n",
    "lgbm = LGBMClassifier(max_depth = 3, n_estimators = 10, random_state = 0, objective = 'binary', learning_rate = 0.01)\n",
    "lgbm.fit(X_train, y_train)"
   ]
  },
  {
   "cell_type": "code",
   "execution_count": 78,
   "metadata": {},
   "outputs": [
    {
     "name": "stderr",
     "output_type": "stream",
     "text": [
      "C:\\Users\\saich\\Anaconda3\\lib\\site-packages\\sklearn\\preprocessing\\label.py:151: DeprecationWarning: The truth value of an empty array is ambiguous. Returning False, but in future this will result in an error. Use `array.size > 0` to check that an array is not empty.\n",
      "  if diff:\n"
     ]
    }
   ],
   "source": [
    "y_train_pred_lgbm = lgbm.predict(X_train)"
   ]
  },
  {
   "cell_type": "code",
   "execution_count": 79,
   "metadata": {},
   "outputs": [
    {
     "name": "stderr",
     "output_type": "stream",
     "text": [
      "C:\\Users\\saich\\Anaconda3\\lib\\site-packages\\sklearn\\preprocessing\\label.py:151: DeprecationWarning: The truth value of an empty array is ambiguous. Returning False, but in future this will result in an error. Use `array.size > 0` to check that an array is not empty.\n",
      "  if diff:\n"
     ]
    }
   ],
   "source": [
    "y_test_pred_lgbm = lgbm.predict(X_test)"
   ]
  },
  {
   "cell_type": "code",
   "execution_count": null,
   "metadata": {},
   "outputs": [],
   "source": []
  },
  {
   "cell_type": "code",
   "execution_count": null,
   "metadata": {},
   "outputs": [],
   "source": []
  },
  {
   "cell_type": "code",
   "execution_count": null,
   "metadata": {},
   "outputs": [],
   "source": []
  },
  {
   "cell_type": "code",
   "execution_count": null,
   "metadata": {},
   "outputs": [],
   "source": []
  },
  {
   "cell_type": "code",
   "execution_count": null,
   "metadata": {},
   "outputs": [],
   "source": []
  },
  {
   "cell_type": "code",
   "execution_count": null,
   "metadata": {},
   "outputs": [],
   "source": []
  },
  {
   "cell_type": "code",
   "execution_count": null,
   "metadata": {},
   "outputs": [],
   "source": []
  },
  {
   "cell_type": "code",
   "execution_count": 55,
   "metadata": {},
   "outputs": [
    {
     "name": "stdout",
     "output_type": "stream",
     "text": [
      "215.62086087799995\n"
     ]
    }
   ],
   "source": [
    "import sklearn\n",
    "import math\n",
    "\n",
    "mse = sklearn.metrics.mean_squared_error(y_train, y_train_pred_lgbm)\n",
    "\n",
    "rmse = math.sqrt(mse)\n",
    "\n",
    "print(rmse)"
   ]
  },
  {
   "cell_type": "code",
   "execution_count": null,
   "metadata": {},
   "outputs": [],
   "source": []
  },
  {
   "cell_type": "code",
   "execution_count": null,
   "metadata": {},
   "outputs": [],
   "source": []
  },
  {
   "cell_type": "code",
   "execution_count": null,
   "metadata": {},
   "outputs": [],
   "source": []
  },
  {
   "cell_type": "code",
   "execution_count": null,
   "metadata": {},
   "outputs": [],
   "source": [
    "import lightgbm as lgb\n",
    "lgb_clss = lgb.LGBMClassifier(learning_rate=0.01,n_estimators=10,num_leaves=100,objective='binary', metrics='auc',random_state=50,n_jobs=-1)\n",
    "lgb_clss.fit(X_train, y_train)\n",
    "lgb_clss.score(X_test, y_test)\n",
    "preds2 = lgb_clss.predict(X_test)\n",
    "print('Acc Score: ',accuracy_score(y_test, preds2))\n",
    "print('Roc Auc Score: ',roc_auc_score(y_test, preds2))\n",
    "print('Precision Score: ',precision_score(y_test, preds2))\n",
    "print('Recall Score: ',recall_score(y_test, preds2))\n",
    "print('f1 score: ',f1_score(y_test, preds2,'binary'))"
   ]
  },
  {
   "cell_type": "code",
   "execution_count": null,
   "metadata": {},
   "outputs": [],
   "source": []
  },
  {
   "cell_type": "code",
   "execution_count": 12,
   "metadata": {},
   "outputs": [
    {
     "data": {
      "text/plain": [
       "709"
      ]
     },
     "execution_count": 12,
     "metadata": {},
     "output_type": "execute_result"
    }
   ],
   "source": [
    "len(train_df['engine_no'].unique())"
   ]
  },
  {
   "cell_type": "markdown",
   "metadata": {},
   "source": [
    "train_df['engine_no'].unique()"
   ]
  },
  {
   "cell_type": "code",
   "execution_count": 14,
   "metadata": {
    "scrolled": true
   },
   "outputs": [
    {
     "data": {
      "text/html": [
       "<div>\n",
       "<style scoped>\n",
       "    .dataframe tbody tr th:only-of-type {\n",
       "        vertical-align: middle;\n",
       "    }\n",
       "\n",
       "    .dataframe tbody tr th {\n",
       "        vertical-align: top;\n",
       "    }\n",
       "\n",
       "    .dataframe thead th {\n",
       "        text-align: right;\n",
       "    }\n",
       "</style>\n",
       "<table border=\"1\" class=\"dataframe\">\n",
       "  <thead>\n",
       "    <tr style=\"text-align: right;\">\n",
       "      <th></th>\n",
       "      <th>engine_no</th>\n",
       "      <th>time_in_cycles</th>\n",
       "      <th>op_setting_1</th>\n",
       "      <th>op_setting_2</th>\n",
       "      <th>op_setting_3</th>\n",
       "      <th>sensor_1</th>\n",
       "      <th>sensor_2</th>\n",
       "      <th>sensor_3</th>\n",
       "      <th>sensor_4</th>\n",
       "      <th>sensor_5</th>\n",
       "      <th>...</th>\n",
       "      <th>sensor_18</th>\n",
       "      <th>sensor_19</th>\n",
       "      <th>sensor_20</th>\n",
       "      <th>sensor_21</th>\n",
       "      <th>sensor_22</th>\n",
       "      <th>sensor_23</th>\n",
       "      <th>sensor_24</th>\n",
       "      <th>sensor_25</th>\n",
       "      <th>sensor_26</th>\n",
       "      <th>sensor_27</th>\n",
       "    </tr>\n",
       "  </thead>\n",
       "  <tbody>\n",
       "    <tr>\n",
       "      <th>count</th>\n",
       "      <td>104897.000000</td>\n",
       "      <td>104897.000000</td>\n",
       "      <td>104897.000000</td>\n",
       "      <td>104897.000000</td>\n",
       "      <td>104897.000000</td>\n",
       "      <td>104897.000000</td>\n",
       "      <td>104897.000000</td>\n",
       "      <td>104897.000000</td>\n",
       "      <td>104897.000000</td>\n",
       "      <td>104897.000000</td>\n",
       "      <td>...</td>\n",
       "      <td>104897.000000</td>\n",
       "      <td>104897.000000</td>\n",
       "      <td>104897.000000</td>\n",
       "      <td>104897.000000</td>\n",
       "      <td>0.0</td>\n",
       "      <td>0.0</td>\n",
       "      <td>0.0</td>\n",
       "      <td>0.0</td>\n",
       "      <td>0.0</td>\n",
       "      <td>0.0</td>\n",
       "    </tr>\n",
       "    <tr>\n",
       "      <th>mean</th>\n",
       "      <td>354.311038</td>\n",
       "      <td>95.406589</td>\n",
       "      <td>17.243810</td>\n",
       "      <td>0.410887</td>\n",
       "      <td>95.748591</td>\n",
       "      <td>485.791314</td>\n",
       "      <td>597.153354</td>\n",
       "      <td>1464.738375</td>\n",
       "      <td>1257.240382</td>\n",
       "      <td>9.887805</td>\n",
       "      <td>...</td>\n",
       "      <td>2273.841797</td>\n",
       "      <td>98.398282</td>\n",
       "      <td>25.949868</td>\n",
       "      <td>15.570426</td>\n",
       "      <td>NaN</td>\n",
       "      <td>NaN</td>\n",
       "      <td>NaN</td>\n",
       "      <td>NaN</td>\n",
       "      <td>NaN</td>\n",
       "      <td>NaN</td>\n",
       "    </tr>\n",
       "    <tr>\n",
       "      <th>std</th>\n",
       "      <td>205.249543</td>\n",
       "      <td>74.311486</td>\n",
       "      <td>16.530141</td>\n",
       "      <td>0.368078</td>\n",
       "      <td>12.328151</td>\n",
       "      <td>30.426804</td>\n",
       "      <td>42.430629</td>\n",
       "      <td>117.856835</td>\n",
       "      <td>135.728855</td>\n",
       "      <td>4.265536</td>\n",
       "      <td>...</td>\n",
       "      <td>142.218102</td>\n",
       "      <td>4.644631</td>\n",
       "      <td>11.701010</td>\n",
       "      <td>7.020590</td>\n",
       "      <td>NaN</td>\n",
       "      <td>NaN</td>\n",
       "      <td>NaN</td>\n",
       "      <td>NaN</td>\n",
       "      <td>NaN</td>\n",
       "      <td>NaN</td>\n",
       "    </tr>\n",
       "    <tr>\n",
       "      <th>min</th>\n",
       "      <td>0.000000</td>\n",
       "      <td>1.000000</td>\n",
       "      <td>-0.008700</td>\n",
       "      <td>-0.000600</td>\n",
       "      <td>60.000000</td>\n",
       "      <td>445.000000</td>\n",
       "      <td>535.410000</td>\n",
       "      <td>1240.940000</td>\n",
       "      <td>1024.900000</td>\n",
       "      <td>3.910000</td>\n",
       "      <td>...</td>\n",
       "      <td>1915.000000</td>\n",
       "      <td>84.930000</td>\n",
       "      <td>10.180000</td>\n",
       "      <td>6.123100</td>\n",
       "      <td>NaN</td>\n",
       "      <td>NaN</td>\n",
       "      <td>NaN</td>\n",
       "      <td>NaN</td>\n",
       "      <td>NaN</td>\n",
       "      <td>NaN</td>\n",
       "    </tr>\n",
       "    <tr>\n",
       "      <th>25%</th>\n",
       "      <td>174.000000</td>\n",
       "      <td>38.000000</td>\n",
       "      <td>0.001300</td>\n",
       "      <td>0.000200</td>\n",
       "      <td>100.000000</td>\n",
       "      <td>449.440000</td>\n",
       "      <td>549.780000</td>\n",
       "      <td>1355.140000</td>\n",
       "      <td>1124.030000</td>\n",
       "      <td>5.480000</td>\n",
       "      <td>...</td>\n",
       "      <td>2212.000000</td>\n",
       "      <td>100.000000</td>\n",
       "      <td>14.340000</td>\n",
       "      <td>8.607300</td>\n",
       "      <td>NaN</td>\n",
       "      <td>NaN</td>\n",
       "      <td>NaN</td>\n",
       "      <td>NaN</td>\n",
       "      <td>NaN</td>\n",
       "      <td>NaN</td>\n",
       "    </tr>\n",
       "    <tr>\n",
       "      <th>50%</th>\n",
       "      <td>357.000000</td>\n",
       "      <td>80.000000</td>\n",
       "      <td>19.998200</td>\n",
       "      <td>0.620000</td>\n",
       "      <td>100.000000</td>\n",
       "      <td>489.050000</td>\n",
       "      <td>605.530000</td>\n",
       "      <td>1490.160000</td>\n",
       "      <td>1262.850000</td>\n",
       "      <td>9.350000</td>\n",
       "      <td>...</td>\n",
       "      <td>2319.000000</td>\n",
       "      <td>100.000000</td>\n",
       "      <td>24.780000</td>\n",
       "      <td>14.872400</td>\n",
       "      <td>NaN</td>\n",
       "      <td>NaN</td>\n",
       "      <td>NaN</td>\n",
       "      <td>NaN</td>\n",
       "      <td>NaN</td>\n",
       "      <td>NaN</td>\n",
       "    </tr>\n",
       "    <tr>\n",
       "      <th>75%</th>\n",
       "      <td>534.000000</td>\n",
       "      <td>135.000000</td>\n",
       "      <td>35.001500</td>\n",
       "      <td>0.840000</td>\n",
       "      <td>100.000000</td>\n",
       "      <td>518.670000</td>\n",
       "      <td>642.200000</td>\n",
       "      <td>1584.810000</td>\n",
       "      <td>1399.460000</td>\n",
       "      <td>14.620000</td>\n",
       "      <td>...</td>\n",
       "      <td>2388.000000</td>\n",
       "      <td>100.000000</td>\n",
       "      <td>38.880000</td>\n",
       "      <td>23.331000</td>\n",
       "      <td>NaN</td>\n",
       "      <td>NaN</td>\n",
       "      <td>NaN</td>\n",
       "      <td>NaN</td>\n",
       "      <td>NaN</td>\n",
       "      <td>NaN</td>\n",
       "    </tr>\n",
       "    <tr>\n",
       "      <th>max</th>\n",
       "      <td>706.000000</td>\n",
       "      <td>486.000000</td>\n",
       "      <td>42.008000</td>\n",
       "      <td>0.842000</td>\n",
       "      <td>100.000000</td>\n",
       "      <td>518.670000</td>\n",
       "      <td>644.320000</td>\n",
       "      <td>1609.690000</td>\n",
       "      <td>1434.120000</td>\n",
       "      <td>14.620000</td>\n",
       "      <td>...</td>\n",
       "      <td>2388.000000</td>\n",
       "      <td>100.000000</td>\n",
       "      <td>39.750000</td>\n",
       "      <td>23.849600</td>\n",
       "      <td>NaN</td>\n",
       "      <td>NaN</td>\n",
       "      <td>NaN</td>\n",
       "      <td>NaN</td>\n",
       "      <td>NaN</td>\n",
       "      <td>NaN</td>\n",
       "    </tr>\n",
       "  </tbody>\n",
       "</table>\n",
       "<p>8 rows × 32 columns</p>\n",
       "</div>"
      ],
      "text/plain": [
       "           engine_no  time_in_cycles   op_setting_1   op_setting_2  \\\n",
       "count  104897.000000   104897.000000  104897.000000  104897.000000   \n",
       "mean      354.311038       95.406589      17.243810       0.410887   \n",
       "std       205.249543       74.311486      16.530141       0.368078   \n",
       "min         0.000000        1.000000      -0.008700      -0.000600   \n",
       "25%       174.000000       38.000000       0.001300       0.000200   \n",
       "50%       357.000000       80.000000      19.998200       0.620000   \n",
       "75%       534.000000      135.000000      35.001500       0.840000   \n",
       "max       706.000000      486.000000      42.008000       0.842000   \n",
       "\n",
       "        op_setting_3       sensor_1       sensor_2       sensor_3  \\\n",
       "count  104897.000000  104897.000000  104897.000000  104897.000000   \n",
       "mean       95.748591     485.791314     597.153354    1464.738375   \n",
       "std        12.328151      30.426804      42.430629     117.856835   \n",
       "min        60.000000     445.000000     535.410000    1240.940000   \n",
       "25%       100.000000     449.440000     549.780000    1355.140000   \n",
       "50%       100.000000     489.050000     605.530000    1490.160000   \n",
       "75%       100.000000     518.670000     642.200000    1584.810000   \n",
       "max       100.000000     518.670000     644.320000    1609.690000   \n",
       "\n",
       "            sensor_4       sensor_5    ...          sensor_18      sensor_19  \\\n",
       "count  104897.000000  104897.000000    ...      104897.000000  104897.000000   \n",
       "mean     1257.240382       9.887805    ...        2273.841797      98.398282   \n",
       "std       135.728855       4.265536    ...         142.218102       4.644631   \n",
       "min      1024.900000       3.910000    ...        1915.000000      84.930000   \n",
       "25%      1124.030000       5.480000    ...        2212.000000     100.000000   \n",
       "50%      1262.850000       9.350000    ...        2319.000000     100.000000   \n",
       "75%      1399.460000      14.620000    ...        2388.000000     100.000000   \n",
       "max      1434.120000      14.620000    ...        2388.000000     100.000000   \n",
       "\n",
       "           sensor_20      sensor_21  sensor_22  sensor_23  sensor_24  \\\n",
       "count  104897.000000  104897.000000        0.0        0.0        0.0   \n",
       "mean       25.949868      15.570426        NaN        NaN        NaN   \n",
       "std        11.701010       7.020590        NaN        NaN        NaN   \n",
       "min        10.180000       6.123100        NaN        NaN        NaN   \n",
       "25%        14.340000       8.607300        NaN        NaN        NaN   \n",
       "50%        24.780000      14.872400        NaN        NaN        NaN   \n",
       "75%        38.880000      23.331000        NaN        NaN        NaN   \n",
       "max        39.750000      23.849600        NaN        NaN        NaN   \n",
       "\n",
       "       sensor_25  sensor_26  sensor_27  \n",
       "count        0.0        0.0        0.0  \n",
       "mean         NaN        NaN        NaN  \n",
       "std          NaN        NaN        NaN  \n",
       "min          NaN        NaN        NaN  \n",
       "25%          NaN        NaN        NaN  \n",
       "50%          NaN        NaN        NaN  \n",
       "75%          NaN        NaN        NaN  \n",
       "max          NaN        NaN        NaN  \n",
       "\n",
       "[8 rows x 32 columns]"
      ]
     },
     "execution_count": 14,
     "metadata": {},
     "output_type": "execute_result"
    }
   ],
   "source": [
    "test_df.describe()"
   ]
  },
  {
   "cell_type": "code",
   "execution_count": 15,
   "metadata": {},
   "outputs": [
    {
     "data": {
      "text/plain": [
       "707"
      ]
     },
     "execution_count": 15,
     "metadata": {},
     "output_type": "execute_result"
    }
   ],
   "source": [
    "len(test_df['engine_no'].unique())"
   ]
  },
  {
   "cell_type": "code",
   "execution_count": 18,
   "metadata": {},
   "outputs": [
    {
     "data": {
      "text/html": [
       "<div>\n",
       "<style scoped>\n",
       "    .dataframe tbody tr th:only-of-type {\n",
       "        vertical-align: middle;\n",
       "    }\n",
       "\n",
       "    .dataframe tbody tr th {\n",
       "        vertical-align: top;\n",
       "    }\n",
       "\n",
       "    .dataframe thead th {\n",
       "        text-align: right;\n",
       "    }\n",
       "</style>\n",
       "<table border=\"1\" class=\"dataframe\">\n",
       "  <thead>\n",
       "    <tr style=\"text-align: right;\">\n",
       "      <th></th>\n",
       "      <th>time_in_cycles</th>\n",
       "      <th>op_setting_1</th>\n",
       "      <th>op_setting_2</th>\n",
       "      <th>op_setting_3</th>\n",
       "      <th>sensor_1</th>\n",
       "      <th>sensor_2</th>\n",
       "      <th>sensor_3</th>\n",
       "      <th>sensor_4</th>\n",
       "      <th>sensor_5</th>\n",
       "      <th>sensor_6</th>\n",
       "      <th>...</th>\n",
       "      <th>sensor_19</th>\n",
       "      <th>sensor_20</th>\n",
       "      <th>sensor_21</th>\n",
       "      <th>sensor_22</th>\n",
       "      <th>sensor_23</th>\n",
       "      <th>sensor_24</th>\n",
       "      <th>sensor_25</th>\n",
       "      <th>sensor_26</th>\n",
       "      <th>sensor_27</th>\n",
       "      <th>RUL</th>\n",
       "    </tr>\n",
       "    <tr>\n",
       "      <th>engine_no</th>\n",
       "      <th></th>\n",
       "      <th></th>\n",
       "      <th></th>\n",
       "      <th></th>\n",
       "      <th></th>\n",
       "      <th></th>\n",
       "      <th></th>\n",
       "      <th></th>\n",
       "      <th></th>\n",
       "      <th></th>\n",
       "      <th></th>\n",
       "      <th></th>\n",
       "      <th></th>\n",
       "      <th></th>\n",
       "      <th></th>\n",
       "      <th></th>\n",
       "      <th></th>\n",
       "      <th></th>\n",
       "      <th></th>\n",
       "      <th></th>\n",
       "      <th></th>\n",
       "    </tr>\n",
       "  </thead>\n",
       "  <tbody>\n",
       "    <tr>\n",
       "      <th>0</th>\n",
       "      <td>170.5</td>\n",
       "      <td>24.223348</td>\n",
       "      <td>0.579076</td>\n",
       "      <td>94.705882</td>\n",
       "      <td>472.498000</td>\n",
       "      <td>579.660471</td>\n",
       "      <td>1420.638676</td>\n",
       "      <td>1204.612118</td>\n",
       "      <td>7.964588</td>\n",
       "      <td>11.520912</td>\n",
       "      <td>...</td>\n",
       "      <td>98.005441</td>\n",
       "      <td>20.709471</td>\n",
       "      <td>12.423852</td>\n",
       "      <td>NaN</td>\n",
       "      <td>NaN</td>\n",
       "      <td>NaN</td>\n",
       "      <td>NaN</td>\n",
       "      <td>NaN</td>\n",
       "      <td>NaN</td>\n",
       "      <td>169.5</td>\n",
       "    </tr>\n",
       "    <tr>\n",
       "      <th>1</th>\n",
       "      <td>161.5</td>\n",
       "      <td>24.002668</td>\n",
       "      <td>0.574305</td>\n",
       "      <td>94.782609</td>\n",
       "      <td>472.958602</td>\n",
       "      <td>579.754006</td>\n",
       "      <td>1414.725435</td>\n",
       "      <td>1195.374379</td>\n",
       "      <td>8.032174</td>\n",
       "      <td>11.577795</td>\n",
       "      <td>...</td>\n",
       "      <td>98.034348</td>\n",
       "      <td>20.920280</td>\n",
       "      <td>12.547875</td>\n",
       "      <td>NaN</td>\n",
       "      <td>NaN</td>\n",
       "      <td>NaN</td>\n",
       "      <td>NaN</td>\n",
       "      <td>NaN</td>\n",
       "      <td>NaN</td>\n",
       "      <td>160.5</td>\n",
       "    </tr>\n",
       "    <tr>\n",
       "      <th>2</th>\n",
       "      <td>81.0</td>\n",
       "      <td>22.350603</td>\n",
       "      <td>0.534930</td>\n",
       "      <td>94.285714</td>\n",
       "      <td>475.893540</td>\n",
       "      <td>583.749565</td>\n",
       "      <td>1431.723043</td>\n",
       "      <td>1221.498571</td>\n",
       "      <td>8.422298</td>\n",
       "      <td>12.187702</td>\n",
       "      <td>...</td>\n",
       "      <td>97.847143</td>\n",
       "      <td>21.832733</td>\n",
       "      <td>13.094925</td>\n",
       "      <td>NaN</td>\n",
       "      <td>NaN</td>\n",
       "      <td>NaN</td>\n",
       "      <td>NaN</td>\n",
       "      <td>NaN</td>\n",
       "      <td>NaN</td>\n",
       "      <td>80.0</td>\n",
       "    </tr>\n",
       "    <tr>\n",
       "      <th>3</th>\n",
       "      <td>127.0</td>\n",
       "      <td>22.757694</td>\n",
       "      <td>0.545416</td>\n",
       "      <td>93.675889</td>\n",
       "      <td>474.888617</td>\n",
       "      <td>581.339209</td>\n",
       "      <td>1419.961462</td>\n",
       "      <td>1203.318656</td>\n",
       "      <td>8.333992</td>\n",
       "      <td>12.023439</td>\n",
       "      <td>...</td>\n",
       "      <td>97.617391</td>\n",
       "      <td>21.714941</td>\n",
       "      <td>13.027206</td>\n",
       "      <td>NaN</td>\n",
       "      <td>NaN</td>\n",
       "      <td>NaN</td>\n",
       "      <td>NaN</td>\n",
       "      <td>NaN</td>\n",
       "      <td>NaN</td>\n",
       "      <td>126.0</td>\n",
       "    </tr>\n",
       "    <tr>\n",
       "      <th>4</th>\n",
       "      <td>92.5</td>\n",
       "      <td>24.399270</td>\n",
       "      <td>0.575790</td>\n",
       "      <td>95.000000</td>\n",
       "      <td>472.112609</td>\n",
       "      <td>579.696304</td>\n",
       "      <td>1422.844402</td>\n",
       "      <td>1209.824239</td>\n",
       "      <td>7.960109</td>\n",
       "      <td>11.527609</td>\n",
       "      <td>...</td>\n",
       "      <td>98.116250</td>\n",
       "      <td>20.678804</td>\n",
       "      <td>12.415955</td>\n",
       "      <td>NaN</td>\n",
       "      <td>NaN</td>\n",
       "      <td>NaN</td>\n",
       "      <td>NaN</td>\n",
       "      <td>NaN</td>\n",
       "      <td>NaN</td>\n",
       "      <td>91.5</td>\n",
       "    </tr>\n",
       "  </tbody>\n",
       "</table>\n",
       "<p>5 rows × 32 columns</p>\n",
       "</div>"
      ],
      "text/plain": [
       "           time_in_cycles  op_setting_1  op_setting_2  op_setting_3  \\\n",
       "engine_no                                                             \n",
       "0                   170.5     24.223348      0.579076     94.705882   \n",
       "1                   161.5     24.002668      0.574305     94.782609   \n",
       "2                    81.0     22.350603      0.534930     94.285714   \n",
       "3                   127.0     22.757694      0.545416     93.675889   \n",
       "4                    92.5     24.399270      0.575790     95.000000   \n",
       "\n",
       "             sensor_1    sensor_2     sensor_3     sensor_4  sensor_5  \\\n",
       "engine_no                                                               \n",
       "0          472.498000  579.660471  1420.638676  1204.612118  7.964588   \n",
       "1          472.958602  579.754006  1414.725435  1195.374379  8.032174   \n",
       "2          475.893540  583.749565  1431.723043  1221.498571  8.422298   \n",
       "3          474.888617  581.339209  1419.961462  1203.318656  8.333992   \n",
       "4          472.112609  579.696304  1422.844402  1209.824239  7.960109   \n",
       "\n",
       "            sensor_6  ...    sensor_19  sensor_20  sensor_21  sensor_22  \\\n",
       "engine_no             ...                                                 \n",
       "0          11.520912  ...    98.005441  20.709471  12.423852        NaN   \n",
       "1          11.577795  ...    98.034348  20.920280  12.547875        NaN   \n",
       "2          12.187702  ...    97.847143  21.832733  13.094925        NaN   \n",
       "3          12.023439  ...    97.617391  21.714941  13.027206        NaN   \n",
       "4          11.527609  ...    98.116250  20.678804  12.415955        NaN   \n",
       "\n",
       "           sensor_23  sensor_24  sensor_25  sensor_26  sensor_27    RUL  \n",
       "engine_no                                                                \n",
       "0                NaN        NaN        NaN        NaN        NaN  169.5  \n",
       "1                NaN        NaN        NaN        NaN        NaN  160.5  \n",
       "2                NaN        NaN        NaN        NaN        NaN   80.0  \n",
       "3                NaN        NaN        NaN        NaN        NaN  126.0  \n",
       "4                NaN        NaN        NaN        NaN        NaN   91.5  \n",
       "\n",
       "[5 rows x 32 columns]"
      ]
     },
     "execution_count": 18,
     "metadata": {},
     "output_type": "execute_result"
    }
   ],
   "source": [
    "train_df.groupby('engine_no').mean().head()"
   ]
  }
 ],
 "metadata": {
  "kernelspec": {
   "display_name": "Python 3",
   "language": "python",
   "name": "python3"
  },
  "language_info": {
   "codemirror_mode": {
    "name": "ipython",
    "version": 3
   },
   "file_extension": ".py",
   "mimetype": "text/x-python",
   "name": "python",
   "nbconvert_exporter": "python",
   "pygments_lexer": "ipython3",
   "version": "3.6.5"
  }
 },
 "nbformat": 4,
 "nbformat_minor": 2
}
